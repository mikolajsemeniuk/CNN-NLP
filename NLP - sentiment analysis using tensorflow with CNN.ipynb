{
 "cells": [
  {
   "cell_type": "markdown",
   "id": "e21e43cd",
   "metadata": {},
   "source": [
    "# NLP - sentiment analysis using tensorflow with CNN"
   ]
  },
  {
   "cell_type": "markdown",
   "id": "c660fc27",
   "metadata": {},
   "source": [
    "## Import libraries"
   ]
  },
  {
   "cell_type": "code",
   "execution_count": 1,
   "id": "0829771d",
   "metadata": {},
   "outputs": [
    {
     "name": "stderr",
     "output_type": "stream",
     "text": [
      "Intel(R) Extension for Scikit-learn* enabled (https://github.com/intel/scikit-learn-intelex)\n"
     ]
    }
   ],
   "source": [
    "import numpy as np\n",
    "import pandas as pd\n",
    "import spacy\n",
    "\n",
    "from numpy import ndarray\n",
    "from pandas import DataFrame\n",
    "from spacy.lang.pl import Polish\n",
    "from spacy.tokens.doc import Doc\n",
    "from tensorflow.keras.preprocessing.text import Tokenizer\n",
    "from tensorflow.keras.preprocessing.sequence import pad_sequences\n",
    "from sklearn.model_selection import train_test_split\n",
    "from tensorflow.keras.layers import Embedding, Conv1D, GlobalMaxPool1D, Dense, Dropout\n",
    "from tensorflow.keras import Model\n",
    "from tensorflow import concat\n",
    "from tensorflow.test import is_gpu_available\n",
    "from sklearnex import patch_sklearn\n",
    "\n",
    "from typing import List\n",
    "patch_sklearn()"
   ]
  },
  {
   "cell_type": "markdown",
   "id": "83ab1c5a",
   "metadata": {},
   "source": [
    "## Load dataset"
   ]
  },
  {
   "cell_type": "code",
   "execution_count": 2,
   "id": "2217847d",
   "metadata": {},
   "outputs": [
    {
     "name": "stdout",
     "output_type": "stream",
     "text": [
      "rows: 936883, columns: 3\n"
     ]
    },
    {
     "data": {
      "text/html": [
       "<div>\n",
       "<style scoped>\n",
       "    .dataframe tbody tr th:only-of-type {\n",
       "        vertical-align: middle;\n",
       "    }\n",
       "\n",
       "    .dataframe tbody tr th {\n",
       "        vertical-align: top;\n",
       "    }\n",
       "\n",
       "    .dataframe thead th {\n",
       "        text-align: right;\n",
       "    }\n",
       "</style>\n",
       "<table border=\"1\" class=\"dataframe\">\n",
       "  <thead>\n",
       "    <tr style=\"text-align: right;\">\n",
       "      <th></th>\n",
       "      <th>description</th>\n",
       "      <th>length</th>\n",
       "      <th>rate</th>\n",
       "    </tr>\n",
       "  </thead>\n",
       "  <tbody>\n",
       "    <tr>\n",
       "      <th>0</th>\n",
       "      <td>Polecam nie pierwszy i nie ostatni raz!</td>\n",
       "      <td>39.0</td>\n",
       "      <td>1.0</td>\n",
       "    </tr>\n",
       "    <tr>\n",
       "      <th>1</th>\n",
       "      <td>Bardzo dobra komunikacja sms i telefoniczna. Z...</td>\n",
       "      <td>121.0</td>\n",
       "      <td>1.0</td>\n",
       "    </tr>\n",
       "    <tr>\n",
       "      <th>2</th>\n",
       "      <td>Polecam zakupy w tym sklepie. Są dostępne częś...</td>\n",
       "      <td>87.0</td>\n",
       "      <td>1.0</td>\n",
       "    </tr>\n",
       "    <tr>\n",
       "      <th>3</th>\n",
       "      <td>0</td>\n",
       "      <td>0.0</td>\n",
       "      <td>0.0</td>\n",
       "    </tr>\n",
       "    <tr>\n",
       "      <th>4</th>\n",
       "      <td>Jestem w pełni zadowolona z przebiegu transakcji</td>\n",
       "      <td>48.0</td>\n",
       "      <td>1.0</td>\n",
       "    </tr>\n",
       "  </tbody>\n",
       "</table>\n",
       "</div>"
      ],
      "text/plain": [
       "                                         description  length  rate\n",
       "0            Polecam nie pierwszy i nie ostatni raz!    39.0   1.0\n",
       "1  Bardzo dobra komunikacja sms i telefoniczna. Z...   121.0   1.0\n",
       "2  Polecam zakupy w tym sklepie. Są dostępne częś...    87.0   1.0\n",
       "3                                                  0     0.0   0.0\n",
       "4   Jestem w pełni zadowolona z przebiegu transakcji    48.0   1.0"
      ]
     },
     "execution_count": 2,
     "metadata": {},
     "output_type": "execute_result"
    }
   ],
   "source": [
    "path: str = \\\n",
    "    'polish_sentiment_dataset.csv'\n",
    "\n",
    "dataset: DataFrame = \\\n",
    "    pd.read_csv(path)\n",
    "    \n",
    "print(f'rows: {dataset.shape[0]}, columns: {dataset.shape[1]}')\n",
    "dataset.head()"
   ]
  },
  {
   "cell_type": "markdown",
   "id": "92f0fa84",
   "metadata": {},
   "source": [
    "## Data exploration"
   ]
  },
  {
   "cell_type": "markdown",
   "id": "68ef7018",
   "metadata": {},
   "source": [
    "### Checking data types"
   ]
  },
  {
   "cell_type": "code",
   "execution_count": 3,
   "id": "ceaad70c",
   "metadata": {},
   "outputs": [
    {
     "data": {
      "text/plain": [
       "description     object\n",
       "length         float64\n",
       "rate           float64\n",
       "dtype: object"
      ]
     },
     "execution_count": 3,
     "metadata": {},
     "output_type": "execute_result"
    }
   ],
   "source": [
    "dataset.dtypes"
   ]
  },
  {
   "cell_type": "markdown",
   "id": "50b27a34",
   "metadata": {},
   "source": [
    "### Checking NaNs"
   ]
  },
  {
   "cell_type": "code",
   "execution_count": 4,
   "id": "176d461c",
   "metadata": {},
   "outputs": [
    {
     "data": {
      "text/plain": [
       "description       629\n",
       "length         174047\n",
       "rate               66\n",
       "dtype: int64"
      ]
     },
     "execution_count": 4,
     "metadata": {},
     "output_type": "execute_result"
    }
   ],
   "source": [
    "dataset.apply(lambda row: sum(pd.isna(row)))"
   ]
  },
  {
   "cell_type": "markdown",
   "id": "7cf31962",
   "metadata": {},
   "source": [
    "### Checking empty strings"
   ]
  },
  {
   "cell_type": "code",
   "execution_count": 5,
   "id": "2e45cba1",
   "metadata": {},
   "outputs": [
    {
     "data": {
      "text/plain": [
       "0"
      ]
     },
     "execution_count": 5,
     "metadata": {},
     "output_type": "execute_result"
    }
   ],
   "source": [
    "(dataset.description == u'').sum()"
   ]
  },
  {
   "cell_type": "markdown",
   "id": "601885b9",
   "metadata": {},
   "source": [
    "### Checking number of classes"
   ]
  },
  {
   "cell_type": "code",
   "execution_count": 6,
   "id": "b5c2f10f",
   "metadata": {},
   "outputs": [
    {
     "data": {
      "text/plain": [
       "rate\n",
       "-1.0    184020\n",
       " 0.0     18547\n",
       " 1.0    734250\n",
       "dtype: int64"
      ]
     },
     "execution_count": 6,
     "metadata": {},
     "output_type": "execute_result"
    }
   ],
   "source": [
    "dataset.groupby('rate').size()"
   ]
  },
  {
   "cell_type": "code",
   "execution_count": 7,
   "id": "2c77b821",
   "metadata": {},
   "outputs": [
    {
     "data": {
      "text/plain": [
       "rate\n",
       "-1.0    19.64\n",
       " 0.0     1.98\n",
       " 1.0    78.37\n",
       "dtype: float64"
      ]
     },
     "execution_count": 7,
     "metadata": {},
     "output_type": "execute_result"
    }
   ],
   "source": [
    "round(dataset.groupby('rate').size() / dataset.shape[0] * 100, 2)"
   ]
  },
  {
   "cell_type": "markdown",
   "id": "108016eb",
   "metadata": {},
   "source": [
    "## Data preparation"
   ]
  },
  {
   "cell_type": "markdown",
   "id": "6057b2ce",
   "metadata": {},
   "source": [
    "### Drop `length` column"
   ]
  },
  {
   "cell_type": "code",
   "execution_count": 8,
   "id": "5df96b19",
   "metadata": {},
   "outputs": [
    {
     "data": {
      "text/html": [
       "<div>\n",
       "<style scoped>\n",
       "    .dataframe tbody tr th:only-of-type {\n",
       "        vertical-align: middle;\n",
       "    }\n",
       "\n",
       "    .dataframe tbody tr th {\n",
       "        vertical-align: top;\n",
       "    }\n",
       "\n",
       "    .dataframe thead th {\n",
       "        text-align: right;\n",
       "    }\n",
       "</style>\n",
       "<table border=\"1\" class=\"dataframe\">\n",
       "  <thead>\n",
       "    <tr style=\"text-align: right;\">\n",
       "      <th></th>\n",
       "      <th>description</th>\n",
       "      <th>rate</th>\n",
       "    </tr>\n",
       "  </thead>\n",
       "  <tbody>\n",
       "    <tr>\n",
       "      <th>0</th>\n",
       "      <td>Polecam nie pierwszy i nie ostatni raz!</td>\n",
       "      <td>1.0</td>\n",
       "    </tr>\n",
       "    <tr>\n",
       "      <th>1</th>\n",
       "      <td>Bardzo dobra komunikacja sms i telefoniczna. Z...</td>\n",
       "      <td>1.0</td>\n",
       "    </tr>\n",
       "    <tr>\n",
       "      <th>2</th>\n",
       "      <td>Polecam zakupy w tym sklepie. Są dostępne częś...</td>\n",
       "      <td>1.0</td>\n",
       "    </tr>\n",
       "    <tr>\n",
       "      <th>3</th>\n",
       "      <td>0</td>\n",
       "      <td>0.0</td>\n",
       "    </tr>\n",
       "    <tr>\n",
       "      <th>4</th>\n",
       "      <td>Jestem w pełni zadowolona z przebiegu transakcji</td>\n",
       "      <td>1.0</td>\n",
       "    </tr>\n",
       "  </tbody>\n",
       "</table>\n",
       "</div>"
      ],
      "text/plain": [
       "                                         description  rate\n",
       "0            Polecam nie pierwszy i nie ostatni raz!   1.0\n",
       "1  Bardzo dobra komunikacja sms i telefoniczna. Z...   1.0\n",
       "2  Polecam zakupy w tym sklepie. Są dostępne częś...   1.0\n",
       "3                                                  0   0.0\n",
       "4   Jestem w pełni zadowolona z przebiegu transakcji   1.0"
      ]
     },
     "execution_count": 8,
     "metadata": {},
     "output_type": "execute_result"
    }
   ],
   "source": [
    "clean_dataset: DataFrame = \\\n",
    "    dataset.drop(columns = ['length'])\n",
    "    \n",
    "clean_dataset.head()"
   ]
  },
  {
   "cell_type": "markdown",
   "id": "06a6f483",
   "metadata": {},
   "source": [
    "### Change `description` column to `string`"
   ]
  },
  {
   "cell_type": "code",
   "execution_count": 9,
   "id": "e7328c73",
   "metadata": {},
   "outputs": [
    {
     "data": {
      "text/plain": [
       "description     string\n",
       "rate           float64\n",
       "dtype: object"
      ]
     },
     "execution_count": 9,
     "metadata": {},
     "output_type": "execute_result"
    }
   ],
   "source": [
    "clean_dataset.description = \\\n",
    "    clean_dataset.description.astype('string')\n",
    "\n",
    "clean_dataset.dtypes"
   ]
  },
  {
   "cell_type": "markdown",
   "id": "534b4eb8",
   "metadata": {},
   "source": [
    "### Drop NaNs"
   ]
  },
  {
   "cell_type": "code",
   "execution_count": 10,
   "id": "99f2c379",
   "metadata": {},
   "outputs": [
    {
     "data": {
      "text/plain": [
       "description    0\n",
       "rate           0\n",
       "dtype: int64"
      ]
     },
     "execution_count": 10,
     "metadata": {},
     "output_type": "execute_result"
    }
   ],
   "source": [
    "clean_dataset = \\\n",
    "    clean_dataset[clean_dataset.description.notna()]\n",
    "\n",
    "clean_dataset = \\\n",
    "    clean_dataset[clean_dataset.rate.notna()]\n",
    "\n",
    "clean_dataset.apply(lambda row: sum(pd.isna(row)))"
   ]
  },
  {
   "cell_type": "markdown",
   "id": "5f77caaf",
   "metadata": {},
   "source": [
    "### Drop `0` class from `rate` column"
   ]
  },
  {
   "cell_type": "code",
   "execution_count": 11,
   "id": "e8ab48ee",
   "metadata": {},
   "outputs": [
    {
     "data": {
      "text/plain": [
       "0"
      ]
     },
     "execution_count": 11,
     "metadata": {},
     "output_type": "execute_result"
    }
   ],
   "source": [
    "clean_dataset = \\\n",
    "    clean_dataset[clean_dataset.rate != 0]\n",
    "\n",
    "(clean_dataset.rate == 0).sum()"
   ]
  },
  {
   "cell_type": "markdown",
   "id": "77d18197",
   "metadata": {},
   "source": [
    "### Convert `-1` class to `0` class from `rate` column"
   ]
  },
  {
   "cell_type": "code",
   "execution_count": 12,
   "id": "055b7794",
   "metadata": {},
   "outputs": [
    {
     "data": {
      "text/plain": [
       "rate\n",
       "0.0    19.99\n",
       "1.0    80.01\n",
       "dtype: float64"
      ]
     },
     "execution_count": 12,
     "metadata": {},
     "output_type": "execute_result"
    }
   ],
   "source": [
    "clean_dataset.rate.replace(-1, 0, inplace = True)\n",
    "\n",
    "round(clean_dataset.groupby('rate').size() / clean_dataset.shape[0] * 100, 2)"
   ]
  },
  {
   "cell_type": "markdown",
   "id": "c2bf19a5",
   "metadata": {},
   "source": [
    "### Sort values to get `50%` of `0` class and `50%` of `1` class when reducing dataset"
   ]
  },
  {
   "cell_type": "code",
   "execution_count": 13,
   "id": "5a57bf68",
   "metadata": {},
   "outputs": [
    {
     "data": {
      "text/html": [
       "<div>\n",
       "<style scoped>\n",
       "    .dataframe tbody tr th:only-of-type {\n",
       "        vertical-align: middle;\n",
       "    }\n",
       "\n",
       "    .dataframe tbody tr th {\n",
       "        vertical-align: top;\n",
       "    }\n",
       "\n",
       "    .dataframe thead th {\n",
       "        text-align: right;\n",
       "    }\n",
       "</style>\n",
       "<table border=\"1\" class=\"dataframe\">\n",
       "  <thead>\n",
       "    <tr style=\"text-align: right;\">\n",
       "      <th></th>\n",
       "      <th>description</th>\n",
       "      <th>rate</th>\n",
       "    </tr>\n",
       "  </thead>\n",
       "  <tbody>\n",
       "    <tr>\n",
       "      <th>936882</th>\n",
       "      <td>wiesz człowieku że on ją nawet nie uderzył i m...</td>\n",
       "      <td>0.0</td>\n",
       "    </tr>\n",
       "    <tr>\n",
       "      <th>814850</th>\n",
       "      <td>jak mój kot to zobaczył to od razu spierdolił ...</td>\n",
       "      <td>0.0</td>\n",
       "    </tr>\n",
       "    <tr>\n",
       "      <th>814849</th>\n",
       "      <td>a byłaś u spowiedzi niegrzeczna dziewczynko</td>\n",
       "      <td>0.0</td>\n",
       "    </tr>\n",
       "    <tr>\n",
       "      <th>814848</th>\n",
       "      <td>mmmLala bierz mnie</td>\n",
       "      <td>0.0</td>\n",
       "    </tr>\n",
       "    <tr>\n",
       "      <th>814847</th>\n",
       "      <td>Tak chujowe że aż mi chromosom wyjebało Sorry ...</td>\n",
       "      <td>0.0</td>\n",
       "    </tr>\n",
       "  </tbody>\n",
       "</table>\n",
       "</div>"
      ],
      "text/plain": [
       "                                              description  rate\n",
       "936882  wiesz człowieku że on ją nawet nie uderzył i m...   0.0\n",
       "814850  jak mój kot to zobaczył to od razu spierdolił ...   0.0\n",
       "814849      a byłaś u spowiedzi niegrzeczna dziewczynko     0.0\n",
       "814848                                mmmLala bierz mnie    0.0\n",
       "814847  Tak chujowe że aż mi chromosom wyjebało Sorry ...   0.0"
      ]
     },
     "execution_count": 13,
     "metadata": {},
     "output_type": "execute_result"
    }
   ],
   "source": [
    "clean_dataset = clean_dataset.sort_values('rate')\n",
    "clean_dataset.head()"
   ]
  },
  {
   "cell_type": "markdown",
   "id": "34479b19",
   "metadata": {},
   "source": [
    "### Reduce dataset to save time and GPU"
   ]
  },
  {
   "cell_type": "code",
   "execution_count": 14,
   "id": "2dbe667d",
   "metadata": {},
   "outputs": [
    {
     "data": {
      "text/plain": [
       "rate\n",
       "0.0    50.0\n",
       "1.0    50.0\n",
       "dtype: float64"
      ]
     },
     "execution_count": 14,
     "metadata": {},
     "output_type": "execute_result"
    }
   ],
   "source": [
    "negative: DataFrame = \\\n",
    "    clean_dataset[:10_000]\n",
    "    \n",
    "positive: DataFrame = \\\n",
    "    clean_dataset[-10_000:]\n",
    "    \n",
    "clean_dataset = pd.concat([negative, positive], ignore_index = True, sort = False)\n",
    "round(clean_dataset.groupby('rate').size() / clean_dataset.shape[0] * 100, 2)"
   ]
  },
  {
   "cell_type": "markdown",
   "id": "cc16b3f5",
   "metadata": {},
   "source": [
    "## Create inputs and labels"
   ]
  },
  {
   "cell_type": "markdown",
   "id": "eefdadba",
   "metadata": {},
   "source": [
    "### Word2Vec tokens"
   ]
  },
  {
   "cell_type": "code",
   "execution_count": 15,
   "id": "e8a35b26",
   "metadata": {},
   "outputs": [],
   "source": [
    "nlp: Polish = \\\n",
    "    spacy.load('pl_core_news_lg')"
   ]
  },
  {
   "cell_type": "code",
   "execution_count": 16,
   "id": "796a74dd",
   "metadata": {},
   "outputs": [],
   "source": [
    "docs: List[Doc] = \\\n",
    "    list(nlp.pipe(clean_dataset.description, disable=\"ner\"))"
   ]
  },
  {
   "cell_type": "code",
   "execution_count": 17,
   "id": "cdb8712d",
   "metadata": {},
   "outputs": [
    {
     "data": {
      "text/plain": [
       "((20000, 300), dtype('float32'), 28790)"
      ]
     },
     "execution_count": 17,
     "metadata": {},
     "output_type": "execute_result"
    }
   ],
   "source": [
    "vector_sequences: ndarray = \\\n",
    "    np.array([sentence.vector for sentence in docs])\n",
    "    \n",
    "vector_sequences.shape, vector_sequences.dtype, len(nlp.vocab)"
   ]
  },
  {
   "cell_type": "markdown",
   "id": "a1171f63",
   "metadata": {},
   "source": [
    "### Lemma tokens"
   ]
  },
  {
   "cell_type": "code",
   "execution_count": 18,
   "id": "15e99122",
   "metadata": {},
   "outputs": [],
   "source": [
    "lemmas: List[List[str]] = \\\n",
    "    [[sentence.lemma_ for sentence in doc] for doc in docs]"
   ]
  },
  {
   "cell_type": "code",
   "execution_count": 19,
   "id": "fc1c0677",
   "metadata": {},
   "outputs": [],
   "source": [
    "tokenizer: Tokenizer = \\\n",
    "    Tokenizer(filters = '', oov_token = '<OOV>')\n",
    "\n",
    "tokenizer.fit_on_texts(lemmas)"
   ]
  },
  {
   "cell_type": "code",
   "execution_count": 20,
   "id": "feb3bb4d",
   "metadata": {},
   "outputs": [
    {
     "data": {
      "text/plain": [
       "((20000, 2360), dtype('int32'), 18088)"
      ]
     },
     "execution_count": 20,
     "metadata": {},
     "output_type": "execute_result"
    }
   ],
   "source": [
    "sequences: List[List[int]] = \\\n",
    "    tokenizer.texts_to_sequences(lemmas)\n",
    "\n",
    "padded_sequences: ndarray = \\\n",
    "    pad_sequences(sequences, padding='post')\n",
    "\n",
    "padded_sequences.shape, padded_sequences.dtype, len(tokenizer.word_counts)"
   ]
  },
  {
   "cell_type": "markdown",
   "id": "b0ed22ac",
   "metadata": {},
   "source": [
    "### Label tokens"
   ]
  },
  {
   "cell_type": "code",
   "execution_count": 21,
   "id": "ea19eec8",
   "metadata": {},
   "outputs": [
    {
     "data": {
      "text/plain": [
       "((20000,), dtype('int64'))"
      ]
     },
     "execution_count": 21,
     "metadata": {},
     "output_type": "execute_result"
    }
   ],
   "source": [
    "rates: ndarray = \\\n",
    "    np.array(clean_dataset.rate, dtype=np.int64)\n",
    "\n",
    "rates.shape, rates.dtype"
   ]
  },
  {
   "cell_type": "markdown",
   "id": "eb0e9f71",
   "metadata": {},
   "source": [
    "## Create model"
   ]
  },
  {
   "cell_type": "code",
   "execution_count": 162,
   "id": "dd59d5a0",
   "metadata": {},
   "outputs": [],
   "source": [
    "class DCNN(Model):\n",
    "    def __init__(self, vocabulary_size: int,\n",
    "                 embedding_size: int, filters_number: int,\n",
    "                 output_size: int, classes_number: int,\n",
    "                 dropout_rate: float, name = 'dcnn'):\n",
    "\n",
    "        super(DCNN, self).__init__(name = name)\n",
    "\n",
    "        self.embedding = Embedding(vocabulary_size, embedding_size)\n",
    "        \n",
    "        self.bigram = Conv1D(filters = filters_number, kernel_size = 2, padding = 'valid', activation = 'relu')\n",
    "        self.trigram = Conv1D(filters = filters_number, kernel_size = 3, padding = 'valid', activation = 'relu')\n",
    "        self.fourgram = Conv1D(filters = filters_number, kernel_size = 4, padding = 'valid', activation = 'relu')\n",
    "        self.fifthgram = Conv1D(filters = filters_number, kernel_size = 5, padding = 'valid', activation = 'relu')\n",
    "        \n",
    "        self.pool = GlobalMaxPool1D()\n",
    "\n",
    "        self.dense_1 = Dense(units = output_size, activation = 'relu')\n",
    "        self.dropout_1 = Dropout(rate = dropout_rate)\n",
    "        \n",
    "        if classes_number == 2:\n",
    "            self.last_dense = Dense(units = 1, activation = 'sigmoid')\n",
    "        else:\n",
    "            self.last_dense = Dense(units = classes_number, activation = 'softmax')\n",
    "\n",
    "    def call(self, inputs: ndarray, training: bool = True):\n",
    "        embeddings = self.embedding(inputs)\n",
    "        \n",
    "        bigram = self.bigram(embeddings)\n",
    "        bigram = self.pool(bigram)\n",
    "\n",
    "        trigram = self.trigram(embeddings)\n",
    "        trigram = self.pool(trigram)\n",
    "        \n",
    "        fourgram = self.fourgram(embeddings)\n",
    "        fourgram = self.pool(fourgram)\n",
    "        \n",
    "        fifthgram = self.fifthgram(embeddings)\n",
    "        fifthgram = self.pool(fifthgram)\n",
    "\n",
    "        output = concat([bigram, trigram, fourgram, fifthgram], axis = -1)\n",
    "        \n",
    "        output = self.dense_1(output)\n",
    "        output = self.dropout_1(output, training)\n",
    "        \n",
    "        output = self.last_dense(output)\n",
    "\n",
    "        return output"
   ]
  },
  {
   "cell_type": "markdown",
   "id": "b2ce7a0e",
   "metadata": {},
   "source": [
    "## Set hyperparameters"
   ]
  },
  {
   "cell_type": "code",
   "execution_count": 151,
   "id": "d529bcbd",
   "metadata": {},
   "outputs": [],
   "source": [
    "# VOCABULARY_SIZE: int = len(tokenizer.word_counts)\n",
    "VOCABULARY_SIZE: int = len(nlp.vocab)\n",
    "EMBEDDING_SIZE: int = 300\n",
    "FILTERS_NUMBER: int = 128\n",
    "OUTPUT_SIZE: int = 256\n",
    "CLASSES_NUMBER: int = len(set(clean_dataset.rate))\n",
    "DROPOUT_RATE: float = 0.25\n",
    "BATCH_SIZE: int = 128\n",
    "NB_EPOCHS: int = 10"
   ]
  },
  {
   "cell_type": "markdown",
   "id": "b97c9252",
   "metadata": {},
   "source": [
    "## Create model instance"
   ]
  },
  {
   "cell_type": "code",
   "execution_count": 152,
   "id": "b23fabb3",
   "metadata": {},
   "outputs": [],
   "source": [
    "dcnn: DCNN = \\\n",
    "    DCNN(VOCABULARY_SIZE, EMBEDDING_SIZE, FILTERS_NUMBER, \n",
    "         OUTPUT_SIZE, CLASSES_NUMBER, DROPOUT_RATE)"
   ]
  },
  {
   "cell_type": "code",
   "execution_count": 153,
   "id": "062eb882",
   "metadata": {},
   "outputs": [],
   "source": [
    "if CLASSES_NUMBER == 2:\n",
    "    dcnn.compile(loss = \"binary_crossentropy\", optimizer = \"adam\", metrics = [\"accuracy\"])\n",
    "else:\n",
    "    dcnn.compile(loss = \"sparse_categorical_crossentropy\", optimizer = \"adam\", metrics = [\"sparse_categorical_accuracy\"])"
   ]
  },
  {
   "cell_type": "markdown",
   "id": "a16226e4",
   "metadata": {},
   "source": [
    "## Split on train test set"
   ]
  },
  {
   "cell_type": "code",
   "execution_count": 154,
   "id": "47b89606",
   "metadata": {},
   "outputs": [
    {
     "data": {
      "text/plain": [
       "((13400, 300), (6600, 300), (13400,), (6600,))"
      ]
     },
     "execution_count": 154,
     "metadata": {},
     "output_type": "execute_result"
    }
   ],
   "source": [
    "X_train: ndarray\n",
    "X_test: ndarray\n",
    "y_train: ndarray\n",
    "y_test: ndarray\n",
    "\n",
    "# X_train, X_test, y_train, y_test = \\\n",
    "#     train_test_split(padded_sequences, rates, test_size = 0.33, random_state = 2021)\n",
    "\n",
    "X_train, X_test, y_train, y_test = \\\n",
    "    train_test_split(vector_sequences, rates, test_size = 0.33, random_state = 2021)\n",
    "\n",
    "X_train.shape, X_test.shape, y_train.shape, y_test.shape"
   ]
  },
  {
   "cell_type": "markdown",
   "id": "876192f9",
   "metadata": {},
   "source": [
    "## Check if GPU with CUDA enable"
   ]
  },
  {
   "cell_type": "code",
   "execution_count": 155,
   "id": "f001a1c3",
   "metadata": {},
   "outputs": [
    {
     "data": {
      "text/plain": [
       "True"
      ]
     },
     "execution_count": 155,
     "metadata": {},
     "output_type": "execute_result"
    }
   ],
   "source": [
    "is_gpu_available(cuda_only=True)"
   ]
  },
  {
   "cell_type": "markdown",
   "id": "dad5067f",
   "metadata": {},
   "source": [
    "## Train model"
   ]
  },
  {
   "cell_type": "code",
   "execution_count": 156,
   "id": "60fb2fde",
   "metadata": {},
   "outputs": [
    {
     "name": "stdout",
     "output_type": "stream",
     "text": [
      "Epoch 1/10\n",
      "(None, 300)\n",
      "(None, 300)\n",
      "105/105 [==============================] - 12s 104ms/step - loss: 0.5534 - accuracy: 0.7066\n",
      "Epoch 2/10\n",
      "105/105 [==============================] - 11s 105ms/step - loss: 0.4196 - accuracy: 0.8078\n",
      "Epoch 3/10\n",
      "105/105 [==============================] - 11s 105ms/step - loss: 0.3705 - accuracy: 0.8328\n",
      "Epoch 4/10\n",
      "105/105 [==============================] - 11s 105ms/step - loss: 0.3470 - accuracy: 0.8466\n",
      "Epoch 5/10\n",
      "105/105 [==============================] - 11s 105ms/step - loss: 0.3345 - accuracy: 0.8535\n",
      "Epoch 6/10\n",
      "105/105 [==============================] - 11s 105ms/step - loss: 0.3147 - accuracy: 0.8613\n",
      "Epoch 7/10\n",
      "105/105 [==============================] - 11s 105ms/step - loss: 0.3081 - accuracy: 0.8666\n",
      "Epoch 8/10\n",
      "105/105 [==============================] - 11s 106ms/step - loss: 0.3207 - accuracy: 0.8579\n",
      "Epoch 9/10\n",
      "105/105 [==============================] - 11s 106ms/step - loss: 0.2953 - accuracy: 0.8710\n",
      "Epoch 10/10\n",
      "105/105 [==============================] - 11s 106ms/step - loss: 0.2972 - accuracy: 0.8724\n"
     ]
    },
    {
     "data": {
      "text/plain": [
       "<keras.callbacks.History at 0x29d6f325e50>"
      ]
     },
     "execution_count": 156,
     "metadata": {},
     "output_type": "execute_result"
    }
   ],
   "source": [
    "# 0.8715\n",
    "dcnn.fit(X_train, y_train, batch_size = BATCH_SIZE, epochs = NB_EPOCHS)"
   ]
  },
  {
   "cell_type": "markdown",
   "id": "0a626329",
   "metadata": {},
   "source": [
    "## Evaluate"
   ]
  },
  {
   "cell_type": "code",
   "execution_count": 157,
   "id": "5cfb8489",
   "metadata": {},
   "outputs": [
    {
     "name": "stdout",
     "output_type": "stream",
     "text": [
      "(None, 300)\n",
      "52/52 [==============================] - 2s 34ms/step - loss: 0.3185 - accuracy: 0.8621\n",
      "loss: 0.3185167610645294, accuracy: 0.8621212244033813\n"
     ]
    }
   ],
   "source": [
    "results: List[float] = \\\n",
    "    dcnn.evaluate(X_test, y_test, batch_size = BATCH_SIZE)\n",
    "\n",
    "print(f'loss: {results[0]}, accuracy: {results[1]}')"
   ]
  },
  {
   "cell_type": "markdown",
   "id": "ae9bcd12",
   "metadata": {},
   "source": [
    "## Predict results"
   ]
  },
  {
   "cell_type": "markdown",
   "id": "d6f8af2e",
   "metadata": {},
   "source": [
    "### Negative sample"
   ]
  },
  {
   "cell_type": "code",
   "execution_count": 165,
   "id": "ce71ce0c",
   "metadata": {},
   "outputs": [
    {
     "name": "stdout",
     "output_type": "stream",
     "text": [
      "(1, 300)\n"
     ]
    },
    {
     "data": {
      "text/plain": [
       "array(0.13956702, dtype=float32)"
      ]
     },
     "execution_count": 165,
     "metadata": {},
     "output_type": "execute_result"
    }
   ],
   "source": [
    "text_to_predict: str = \\\n",
    "    'strata czasu.'\n",
    "    \n",
    "vector: ndarray = \\\n",
    "    nlp(text_to_predict, disable=\"ner tagger parser\").vector\n",
    "    \n",
    "vector_input: ndarray = \\\n",
    "    np.transpose(np.expand_dims(vector, axis = 1))\n",
    "# vector_input.shape\n",
    "np.squeeze(dcnn(vector_input, training=False).numpy())"
   ]
  },
  {
   "cell_type": "markdown",
   "id": "569f4e31",
   "metadata": {},
   "source": [
    "### Positive sample"
   ]
  },
  {
   "cell_type": "code",
   "execution_count": 166,
   "id": "e6f683d5",
   "metadata": {},
   "outputs": [
    {
     "name": "stdout",
     "output_type": "stream",
     "text": [
      "(1, 300)\n"
     ]
    },
    {
     "data": {
      "text/plain": [
       "array([[0.7726752]], dtype=float32)"
      ]
     },
     "execution_count": 166,
     "metadata": {},
     "output_type": "execute_result"
    }
   ],
   "source": [
    "text_to_predict: str = \\\n",
    "    'gorąco polecam'\n",
    "    \n",
    "vector: ndarray = \\\n",
    "    nlp(text_to_predict, disable=\"ner tagger parser\").vector\n",
    "    \n",
    "vector_input: ndarray = \\\n",
    "    np.transpose(np.expand_dims(vector, axis = 1))\n",
    "    \n",
    "dcnn(vector_input, training=False).numpy()"
   ]
  },
  {
   "cell_type": "markdown",
   "id": "84191f5c",
   "metadata": {},
   "source": [
    "### Negative sample (tokenizer)"
   ]
  },
  {
   "cell_type": "code",
   "execution_count": 160,
   "id": "3d4dd1df",
   "metadata": {},
   "outputs": [
    {
     "name": "stdout",
     "output_type": "stream",
     "text": [
      "(1, 13)\n"
     ]
    },
    {
     "data": {
      "text/plain": [
       "array([[0.9322992]], dtype=float32)"
      ]
     },
     "execution_count": 160,
     "metadata": {},
     "output_type": "execute_result"
    }
   ],
   "source": [
    "text_to_predict: str = \\\n",
    "    'strata czasu.'\n",
    "    \n",
    "lemmas_to_predict = \\\n",
    "    ' '.join(word.lemma_ for word in nlp(text_to_predict))\n",
    "\n",
    "sequences_to_predict: List[str] = \\\n",
    "    tokenizer.texts_to_sequences(lemmas_to_predict)\n",
    "    \n",
    "padded_sequences_to_predict: ndarray = \\\n",
    "    pad_sequences(sequences_to_predict, padding='post')\n",
    "    \n",
    "dcnn(np.transpose(padded_sequences_to_predict), training=False).numpy()"
   ]
  },
  {
   "cell_type": "code",
   "execution_count": 161,
   "id": "75145ce4",
   "metadata": {},
   "outputs": [
    {
     "name": "stdout",
     "output_type": "stream",
     "text": [
      "(1, 25)\n"
     ]
    },
    {
     "data": {
      "text/plain": [
       "array([[0.9749672]], dtype=float32)"
      ]
     },
     "execution_count": 161,
     "metadata": {},
     "output_type": "execute_result"
    }
   ],
   "source": [
    "text_to_predict: str = \\\n",
    "    'bardzo polecam sprzedawcę'\n",
    "    \n",
    "lemmas_to_predict = \\\n",
    "    ' '.join(word.lemma_ for word in nlp(text_to_predict))\n",
    "\n",
    "sequences_to_predict: List[str] = \\\n",
    "    tokenizer.texts_to_sequences(lemmas_to_predict)\n",
    "    \n",
    "padded_sequences_to_predict: ndarray = \\\n",
    "    pad_sequences(sequences_to_predict, padding='post')\n",
    "    \n",
    "dcnn(np.transpose(padded_sequences_to_predict), training=False).numpy()"
   ]
  },
  {
   "cell_type": "code",
   "execution_count": null,
   "id": "e11a5443",
   "metadata": {},
   "outputs": [],
   "source": []
  }
 ],
 "metadata": {
  "kernelspec": {
   "display_name": "Python 3 (ipykernel)",
   "language": "python",
   "name": "python3"
  },
  "language_info": {
   "codemirror_mode": {
    "name": "ipython",
    "version": 3
   },
   "file_extension": ".py",
   "mimetype": "text/x-python",
   "name": "python",
   "nbconvert_exporter": "python",
   "pygments_lexer": "ipython3",
   "version": "3.9.7"
  }
 },
 "nbformat": 4,
 "nbformat_minor": 5
}
